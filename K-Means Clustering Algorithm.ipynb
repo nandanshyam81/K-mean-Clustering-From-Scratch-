{
 "cells": [
  {
   "cell_type": "markdown",
   "id": "f6cddc2c",
   "metadata": {},
   "source": [
    "### Taking input "
   ]
  },
  {
   "cell_type": "code",
   "execution_count": 1,
   "id": "ad0ef84f",
   "metadata": {},
   "outputs": [],
   "source": [
    "X=[2, 2, 8, 5, 7, 6, 1, 4]\n",
    "Y=[10, 5, 4, 8, 5, 4, 2, 9]\n"
   ]
  },
  {
   "cell_type": "code",
   "execution_count": null,
   "id": "8dbeb48c",
   "metadata": {},
   "outputs": [],
   "source": [
    " x=input(\"enter the coordinate\")\n",
    "    "
   ]
  },
  {
   "cell_type": "code",
   "execution_count": null,
   "id": "53cbc3ab",
   "metadata": {},
   "outputs": [],
   "source": [
    "x"
   ]
  },
  {
   "cell_type": "code",
   "execution_count": null,
   "id": "b2b78b77",
   "metadata": {},
   "outputs": [],
   "source": [
    "type(x)"
   ]
  },
  {
   "cell_type": "code",
   "execution_count": null,
   "id": "71572ac9",
   "metadata": {},
   "outputs": [],
   "source": [
    "a1=X[0],Y[0]"
   ]
  },
  {
   "cell_type": "code",
   "execution_count": null,
   "id": "b0f42ec4",
   "metadata": {},
   "outputs": [],
   "source": [
    "type(a1)"
   ]
  },
  {
   "cell_type": "code",
   "execution_count": null,
   "id": "8612b776",
   "metadata": {},
   "outputs": [],
   "source": [
    "import random"
   ]
  },
  {
   "cell_type": "code",
   "execution_count": 2,
   "id": "8af6247f",
   "metadata": {},
   "outputs": [
    {
     "name": "stdout",
     "output_type": "stream",
     "text": [
      "0 3 6\n"
     ]
    }
   ],
   "source": [
    "\n",
    "#(c1,c2,c3)=random.sample(range(0,8),3)\n",
    "c1,c2,c3=0,3,6\n",
    "print(c1,c2,c3)"
   ]
  },
  {
   "cell_type": "code",
   "execution_count": 3,
   "id": "b0a513be",
   "metadata": {},
   "outputs": [
    {
     "data": {
      "text/plain": [
       "(2, 10)"
      ]
     },
     "execution_count": 3,
     "metadata": {},
     "output_type": "execute_result"
    }
   ],
   "source": [
    "centr_1=X[c1],Y[c1]\n",
    "centr_1"
   ]
  },
  {
   "cell_type": "code",
   "execution_count": 4,
   "id": "f72fbd5a",
   "metadata": {},
   "outputs": [
    {
     "data": {
      "text/plain": [
       "(1, 2)"
      ]
     },
     "execution_count": 4,
     "metadata": {},
     "output_type": "execute_result"
    }
   ],
   "source": [
    "centr_3=X[c3],Y[c3]\n",
    "centr_3"
   ]
  },
  {
   "cell_type": "code",
   "execution_count": 5,
   "id": "d601a138",
   "metadata": {},
   "outputs": [
    {
     "data": {
      "text/plain": [
       "(5, 8)"
      ]
     },
     "execution_count": 5,
     "metadata": {},
     "output_type": "execute_result"
    }
   ],
   "source": [
    "centr_2=X[c2],Y[c2]\n",
    "centr_2"
   ]
  },
  {
   "cell_type": "code",
   "execution_count": 6,
   "id": "bfae2c19",
   "metadata": {},
   "outputs": [],
   "source": [
    "import numpy as np\n",
    "c1_dis"
   ]
  },
  {
   "cell_type": "code",
   "execution_count": null,
   "id": "90285c03",
   "metadata": {},
   "outputs": [],
   "source": []
  },
  {
   "cell_type": "code",
   "execution_count": 34,
   "id": "2d510287",
   "metadata": {},
   "outputs": [],
   "source": [
    "c1_dis=cal_dis(centr_1,X,Y)"
   ]
  },
  {
   "cell_type": "code",
   "execution_count": 35,
   "id": "a978534b",
   "metadata": {},
   "outputs": [],
   "source": [
    "c2_dis=cal_dis(centr_2,X,Y)\n",
    "c3_dis=cal_dis(centr_3,X,Y)"
   ]
  },
  {
   "cell_type": "code",
   "execution_count": 36,
   "id": "369f36e6",
   "metadata": {},
   "outputs": [
    {
     "name": "stdout",
     "output_type": "stream",
     "text": [
      "[0.0, 5.0, 8.49, 3.61, 7.07, 7.21, 8.06, 2.24]\n"
     ]
    }
   ],
   "source": [
    "print(c1_dis)\n"
   ]
  },
  {
   "cell_type": "code",
   "execution_count": 10,
   "id": "7d8d6507",
   "metadata": {},
   "outputs": [],
   "source": [
    "cluster_1=[]\n",
    "cluster_2=[]\n",
    "cluster_3=[]\n",
    "for i in range(8):\n",
    "    check=min(c1_dis[i],c2_dis[i],c3_dis[i])\n",
    "    if check==c1_dis[i]:\n",
    "        cluster_1.append((X[i],Y[i]))\n",
    "    elif check==c2_dis[i]:\n",
    "        cluster_2.append((X[i],Y[i]))\n",
    "    else:\n",
    "        cluster_3.append((X[i],Y[i]))  "
   ]
  },
  {
   "cell_type": "code",
   "execution_count": 11,
   "id": "9ed11af7",
   "metadata": {},
   "outputs": [
    {
     "data": {
      "text/plain": [
       "[(2, 10)]"
      ]
     },
     "execution_count": 11,
     "metadata": {},
     "output_type": "execute_result"
    }
   ],
   "source": [
    "cluster_1"
   ]
  },
  {
   "cell_type": "code",
   "execution_count": 12,
   "id": "1875da5b",
   "metadata": {},
   "outputs": [
    {
     "data": {
      "text/plain": [
       "[(8, 4), (5, 8), (7, 5), (6, 4), (4, 9)]"
      ]
     },
     "execution_count": 12,
     "metadata": {},
     "output_type": "execute_result"
    }
   ],
   "source": [
    "cluster_2"
   ]
  },
  {
   "cell_type": "code",
   "execution_count": 13,
   "id": "27d107e8",
   "metadata": {},
   "outputs": [
    {
     "data": {
      "text/plain": [
       "[(2, 5), (1, 2)]"
      ]
     },
     "execution_count": 13,
     "metadata": {},
     "output_type": "execute_result"
    }
   ],
   "source": [
    "cluster_3"
   ]
  },
  {
   "cell_type": "code",
   "execution_count": null,
   "id": "1028ff73",
   "metadata": {},
   "outputs": [],
   "source": [
    "import matplotlib.pyplot as plt\n",
    "\n",
    "plt.scatter(X,Y)"
   ]
  },
  {
   "cell_type": "markdown",
   "id": "7be0f6d1",
   "metadata": {},
   "source": [
    "### update centroids"
   ]
  },
  {
   "cell_type": "code",
   "execution_count": 14,
   "id": "98f00d84",
   "metadata": {},
   "outputs": [],
   "source": [
    "def update_centre(cluster):\n",
    "    a1=len(cluster)\n",
    "    sum1=0\n",
    "    sum2=0\n",
    "    for i in range(a1):\n",
    "        sum1=sum1+cluster[i][0]\n",
    "        sum2=sum2+cluster[i][1]\n",
    "    centre_1=(round(sum1/a1,2),round(sum2/a1,2))\n",
    "    return centre_1\n",
    "    "
   ]
  },
  {
   "cell_type": "code",
   "execution_count": 15,
   "id": "c29daf10",
   "metadata": {},
   "outputs": [
    {
     "data": {
      "text/plain": [
       "(2.0, 10.0)"
      ]
     },
     "execution_count": 15,
     "metadata": {},
     "output_type": "execute_result"
    }
   ],
   "source": [
    "centr_1=update_centre(cluster_1)\n",
    "centr_1\n"
   ]
  },
  {
   "cell_type": "code",
   "execution_count": 16,
   "id": "18f8f5f1",
   "metadata": {},
   "outputs": [
    {
     "data": {
      "text/plain": [
       "(6.0, 6.0)"
      ]
     },
     "execution_count": 16,
     "metadata": {},
     "output_type": "execute_result"
    }
   ],
   "source": [
    "centr_2=update_centre(cluster_2)\n",
    "centr_2\n"
   ]
  },
  {
   "cell_type": "code",
   "execution_count": 17,
   "id": "df0fc7ff",
   "metadata": {},
   "outputs": [
    {
     "data": {
      "text/plain": [
       "(1.5, 3.5)"
      ]
     },
     "execution_count": 17,
     "metadata": {},
     "output_type": "execute_result"
    }
   ],
   "source": [
    "centr_3=update_centre(cluster_3)\n",
    "centr_3\n"
   ]
  },
  {
   "cell_type": "code",
   "execution_count": 25,
   "id": "130476c9",
   "metadata": {},
   "outputs": [],
   "source": [
    "c1_dis=cal_dis(centr_1,X,Y)\n",
    "c2_dis=cal_dis(centr_2,X,Y)\n",
    "c3_dis=cal_dis(centr_3,X,Y)"
   ]
  },
  {
   "cell_type": "code",
   "execution_count": 26,
   "id": "435b1c6b",
   "metadata": {},
   "outputs": [
    {
     "data": {
      "text/plain": [
       "[0.0, 5.0, 8.49, 3.61, 7.07, 7.21, 8.06, 2.24]"
      ]
     },
     "execution_count": 26,
     "metadata": {},
     "output_type": "execute_result"
    }
   ],
   "source": [
    "c1_dis\n"
   ]
  },
  {
   "cell_type": "code",
   "execution_count": 27,
   "id": "e89709c8",
   "metadata": {},
   "outputs": [
    {
     "data": {
      "text/plain": [
       "[5.66, 4.12, 2.83, 2.24, 1.41, 2.0, 6.4, 3.61]"
      ]
     },
     "execution_count": 27,
     "metadata": {},
     "output_type": "execute_result"
    }
   ],
   "source": [
    "c2_dis"
   ]
  },
  {
   "cell_type": "code",
   "execution_count": 28,
   "id": "9c3a3a76",
   "metadata": {},
   "outputs": [
    {
     "data": {
      "text/plain": [
       "[6.52, 1.58, 6.52, 5.7, 5.7, 4.53, 1.58, 6.04]"
      ]
     },
     "execution_count": 28,
     "metadata": {},
     "output_type": "execute_result"
    }
   ],
   "source": [
    "c3_dis"
   ]
  },
  {
   "cell_type": "code",
   "execution_count": 33,
   "id": "3dea2cd8",
   "metadata": {},
   "outputs": [],
   "source": [
    "def new_cluster(c1_dis,c2_dis,c3_dis):\n",
    "    cluster_1=[]\n",
    "    cluster_2=[]\n",
    "    cluster_3=[]\n",
    "    for i in range(8):\n",
    "        check=min(c1_dis[i],c2_dis[i],c3_dis[i])\n",
    "        if check==c1_dis[i]:\n",
    "            cluster_1.append((X[i],Y[i]))\n",
    "        elif check==c2_dis[i]:\n",
    "            cluster_2.append((X[i],Y[i]))\n",
    "        else:\n",
    "            cluster_3.append((X[i],Y[i]))  \n"
   ]
  },
  {
   "cell_type": "code",
   "execution_count": 30,
   "id": "6c065291",
   "metadata": {},
   "outputs": [
    {
     "data": {
      "text/plain": [
       "[(2, 10), (4, 9)]"
      ]
     },
     "execution_count": 30,
     "metadata": {},
     "output_type": "execute_result"
    }
   ],
   "source": [
    "cluster_1"
   ]
  },
  {
   "cell_type": "code",
   "execution_count": 31,
   "id": "104df1df",
   "metadata": {},
   "outputs": [
    {
     "data": {
      "text/plain": [
       "[(8, 4), (5, 8), (7, 5), (6, 4)]"
      ]
     },
     "execution_count": 31,
     "metadata": {},
     "output_type": "execute_result"
    }
   ],
   "source": [
    "cluster_2"
   ]
  },
  {
   "cell_type": "code",
   "execution_count": 32,
   "id": "c88060bd",
   "metadata": {},
   "outputs": [
    {
     "data": {
      "text/plain": [
       "[(2, 5), (1, 2)]"
      ]
     },
     "execution_count": 32,
     "metadata": {},
     "output_type": "execute_result"
    }
   ],
   "source": [
    "cluster_3"
   ]
  },
  {
   "cell_type": "code",
   "execution_count": null,
   "id": "b59b0154",
   "metadata": {},
   "outputs": [],
   "source": []
  }
 ],
 "metadata": {
  "kernelspec": {
   "display_name": "Python 3 (ipykernel)",
   "language": "python",
   "name": "python3"
  },
  "language_info": {
   "codemirror_mode": {
    "name": "ipython",
    "version": 3
   },
   "file_extension": ".py",
   "mimetype": "text/x-python",
   "name": "python",
   "nbconvert_exporter": "python",
   "pygments_lexer": "ipython3",
   "version": "3.9.7"
  }
 },
 "nbformat": 4,
 "nbformat_minor": 5
}
